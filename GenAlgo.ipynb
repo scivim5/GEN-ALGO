{
 "cells": [
  {
   "cell_type": "markdown",
   "id": "e1337b8d-5b95-4b4f-9651-749aa4a188aa",
   "metadata": {
    "tags": []
   },
   "source": [
    "# GENETIC ALGORITHM -A PROBLEM SOLVING IDEA FROM NATURE\n",
    "\n",
    "## Introduction\n",
    "\n",
    "There are many lessons we can learn from nature for getting the many available solutions for real life problems.\n",
    "Initially, an algorithm is defined to be an exact well-explained regular approach that can be applied and systematically followed through to get a conclusion.\n",
    "An algorithm that is structured based on a self-organized natural\n",
    "process is mainly used to secure the different combinations of possibilities available to solve a problem.\n",
    "A genetic algorithm is a good example of one such algorithm. It is based on the overall principle behind the preservation and inheritance of any gene (hereditary factor) related to any trait within a particular population."
   ]
  },
  {
   "cell_type": "markdown",
   "id": "0b5fe919-b58a-45d3-bf69-7edb47805f98",
   "metadata": {
    "tags": []
   },
   "source": [
    "## Basic Concept Behind The Algorithm\n",
    "The fundamental reality of a population in the process of evolution that has been adopted within the genetic algorithm is--\n",
    "Initially, the population of a single species of organism is present in a natural environment. Across different generations, fitter individuals have greater chances to survive and breed while weaker ones are eliminated from the population due to their inability to outlive tough circumstances faced by the population. However, few weak individuals that may or may not survive have to face difficult situations due to which the viable ones can take part in the process of breeding and increase diversity in the offspring. In the process of breeding, diversity is produced by creating different combinations of genes within offsprings by crossing over\n",
    "between parental genes. Apart from crossing over, genetic mutations can create totally new changes which can result in significant uniqueness during the process of evolution.\n",
    "While using the genetic algorithm, a set of all candidate solutions(members of a set of all possible solutions to a problem) to a problem is treated like a population. Each candidate solution may be regarded as a single individual or phenotype. The population is a set of candidate solutions to a problem which can be evolved towards better solutions. Each individual has a set of properties (genotype) which can be altered and modified by mutation."
   ]
  },
  {
   "cell_type": "code",
   "execution_count": 1,
   "id": "01e48500-a974-42d9-aa8c-78c3dd3da974",
   "metadata": {},
   "outputs": [],
   "source": [
    "from random import randint,random\n",
    "from operator import add\n",
    "from functools import reduce\n",
    "import matplotlib.pyplot as plt\n",
    "\n",
    "## This program illustrates the concept of genetic algorithms by evolving a\n",
    "## solution for a simple, contrived problem. The approach is non-deterministic\n",
    "## with each run of the program giving a different candidate solution.\n",
    "## Summary: A population is a list of members and members are lists of\n",
    "## attributes (analogous to genetic traits).  Depending on how the problem is\n",
    "## modelled, each member represents a candidate solution with each element of\n",
    "## the member array standing for a solution attribute.\n"
   ]
  },
  {
   "cell_type": "markdown",
   "id": "c3fa04d5-0a2c-4977-9c99-05f046e24ea2",
   "metadata": {},
   "source": [
    "The first step in the entire operation we'd carry out within the Python programming language is to import all the required functions into the program. \n",
    "The imported functions such as 'randint', 'add', 'reduce', and 'matplotlib' are used for processes such as picking random integers, addition of all numbers within a set, a single result output(by arithmetic methods) and plotting graphs respectively. "
   ]
  },
  {
   "cell_type": "markdown",
   "id": "c3aa3f68-1326-42b6-bf52-faede81d95e5",
   "metadata": {},
   "source": [
    "## A Simple Condition Based on The Genetic Algorithm\n",
    "In order to create a population, the first step would be to write a code to create a single member.\n",
    "Each member is a set that has a definite number of 'traits'; all traits of a single member are diverse, randomly selected numbers lying evenly between the indicated minimum and maximum values. \n",
    "The imported function used to create a set of random integers within a definite range is 'randint'. \n",
    "The declared function 'member' within the program is used to carry out this entire process(creation of a single member)."
   ]
  },
  {
   "cell_type": "code",
   "execution_count": 16,
   "id": "0b72ff98-2532-4095-8fee-262ad89be18d",
   "metadata": {},
   "outputs": [],
   "source": [
    "\"\"\"\n",
    "The defined function(makeMember)creates a set of numbers between \n",
    "numMin & numMax; each set is like a single member of a population.\n",
    "\"\"\";"
   ]
  },
  {
   "cell_type": "code",
   "execution_count": 3,
   "id": "81cbea98-1cb5-4c8b-abc9-0c4bc0318c5b",
   "metadata": {},
   "outputs": [],
   "source": [
    "def makeMember(numLength, numMin, numMax):\n",
    "\t'''\n",
    "\tCreates a  list of numbers between numMin,numMax representing a single\n",
    "\tmember of the population. The numbers are attributes of each member.\n",
    "\t'''\n",
    "\treturn [randint(numMin,numMax) for x in range (numLength)]\n"
   ]
  },
  {
   "cell_type": "markdown",
   "id": "5ef00619-5c8e-41ea-bbbc-bd709cf909ff",
   "metadata": {},
   "source": [
    "The next step is the formation of a population: a diverse set of members, selected as mentioned above(the value of the first variable is equal to the number of members in a single population). \n",
    "The declared function to create a population with number of members equal to the value of the first variable is a 'population'."
   ]
  },
  {
   "cell_type": "code",
   "execution_count": 4,
   "id": "2c8f1736-98e5-469b-a667-695d832821bb",
   "metadata": {},
   "outputs": [],
   "source": [
    "def makePopulation(numCount,numLength,numMin,numMax):\n",
    "\t'''\n",
    "\tCreate a population of numCount members each with numLength attributes\n",
    "\tbetween numMin and numMax. \n",
    "\t'''\n",
    "\treturn [makeMember(numLength,numMin,numMax) for x in range (numCount)]\n"
   ]
  },
  {
   "cell_type": "code",
   "execution_count": 15,
   "id": "749700f5-4114-479e-8e39-c88ebac7907c",
   "metadata": {
    "tags": []
   },
   "outputs": [],
   "source": [
    "\"\"\"\n",
    "numCount: number of members in a single population\n",
    "numLength: number of traits in a single member (i.e number of \n",
    "values in a single set)\n",
    "numMin,numMax: the minimum & maximum values between which the \n",
    "values in each set lie\n",
    "\"\"\";"
   ]
  },
  {
   "cell_type": "markdown",
   "id": "64fdb21a-5f20-487e-86fa-de8241f74667",
   "metadata": {},
   "source": [
    "### The Fitness of a member and Its Relevance in The Population\n",
    "In order to find the quality of each member, the fitness of each member should be determined. \n",
    "Here, the quality of a member is inversely proportional to its value of fitness. So, the lower the fitness, the better is the\n",
    "individual. \n",
    "The fitness is the absolute value of difference between the target mean and the mean of the values ('traits') of a single individual member whose fitness is to be evaluated. \n",
    "The 'reduce' function is used to independently add up all the values within each member and attribute the final value to a single variable called 'sumAttr'. "
   ]
  },
  {
   "cell_type": "code",
   "execution_count": 5,
   "id": "dfe3190f-c2a3-4277-852d-d934cb8d7898",
   "metadata": {},
   "outputs": [],
   "source": [
    "def calcFitness(lstMember,valTarget):\n",
    "\t'''\n",
    "\tCalculates fitness of a population member.  We define it as absolute\n",
    "\tdeviation of mean value of member attributes from a target value. The\n",
    "\tfitness function depends on the problem being modelled.\n",
    "\t'''\n",
    "\tsumAttr = reduce(add,lstMember,0)  # add all attribute values\n",
    "\tlenMember = len(lstMember)  \n",
    "\tmean = (sumAttr/lenMember * 1.0)  # calculate their mean\n",
    "\treturn abs(valTarget-mean)  # Lower is 'fitter'\n"
   ]
  },
  {
   "cell_type": "code",
   "execution_count": 17,
   "id": "a08844fb-963b-4e06-ad98-9b01cc06272e",
   "metadata": {},
   "outputs": [],
   "source": [
    "\"\"\"\n",
    "The function (calcFitness) determines the fitness of each member\n",
    "(an absolute value of difference between the mean of each set of \n",
    "numbers & the target mean); a member with lower fitness is better.\n",
    "lstMember: the set of numbers whose mean is to be evaluated.\n",
    "lenMember: the size of the set of attributes related to each member.\n",
    "sumAttr: the sum of all attributes related to each member.\n",
    "valTarget: the target mean we aim at.\n",
    "\"\"\";"
   ]
  },
  {
   "cell_type": "markdown",
   "id": "3ee30a8e-5670-4d2f-b37f-f1d8fa1da24c",
   "metadata": {},
   "source": [
    "After confirming the fitness of each member of a population, the next declared function ('calcGrade')determines the average fitness of the population. As usual, the fitness values of all members are added and divided by the total number of members in a single population to obtain the value of mean.\n",
    "[Note: the values of both mean and number of members in a population under the declared functions 'calcFitness' and 'calcGrade' respectively are multiplied by a decimal value (1.0) in order to prevent the final value returned by either function from being rounded off to the nearest whole number]"
   ]
  },
  {
   "cell_type": "code",
   "execution_count": 6,
   "id": "4c798c57-999c-4fe7-a411-9a0ff414f29d",
   "metadata": {},
   "outputs": [],
   "source": [
    "def calcGrade(lstPopulation,valTarget):\n",
    "\t'''\n",
    "\tFind average fitness of a population.\n",
    "\t'''\n",
    "\t# Add fitness values of each population member and calculate the average\n",
    "\ttotal = reduce(add,(calcFitness(x,valTarget) for x in lstPopulation),0)\n",
    "\treturn total/(len(lstPopulation)*1.0)\n"
   ]
  },
  {
   "cell_type": "markdown",
   "id": "0fd66fc4-e8b8-4ac6-ae0b-2910aff3dd8b",
   "metadata": {},
   "source": [
    "The comments that depict commands(lines with syntax)have been hashed. The reason for the idle nature of the commands that had to be hashed is the absence of a constant target mean(variable:targmn). \n",
    "The target mean is an important, but uncertain aspect that is entirely based on the state of the considered population. It is quite changeable due to the stochasticity of the applications related to the Genetic Algorithm."
   ]
  },
  {
   "cell_type": "markdown",
   "id": "ae855446-0392-48cb-acac-c34c3677d0cd",
   "metadata": {},
   "source": [
    "A separate set of parents is formed to which few members with comparitively higher fitness values are also added in order to maintain diversity. The process of crossing over is carried out in the end, before which it would be better to make any required changes ('mutations') in 'parental traits'. The point for a\n",
    "'mutation' in a single individual is any random 'trait'. The value of the substitute lies within the range of the maximum and minimum values in the member or set of numbers."
   ]
  },
  {
   "cell_type": "code",
   "execution_count": 11,
   "id": "3fff874c-a9cb-402d-b7e5-46bf77fe9c21",
   "metadata": {},
   "outputs": [],
   "source": [
    "def evolvePopulation(lstPop, valTarget, frac2retain=0.2, prob_select=0.05, prob_mutate=0.02):\n",
    "\t'''\n",
    "\tEvolve the population using analogies of natural selection and crosses\n",
    "\tin Genetics. \n",
    "\tfrac2retain: fraction of the fittest for the next generation, \n",
    "\tprob_select: probability that a member of rest of the population \n",
    "\twill go to the next generation and \n",
    "\tprob_mutate: probability that individual members ready to breed for the next\n",
    "\tgeneration will undergo random mutation.\n",
    "\t'''\n",
    "\tlstPopFitness = [(calcFitness(x, valTarget), x) for x in lstPop]\n",
    "\tlstSortedPop = [x[1] for x in sorted(lstPopFitness)]    \n",
    "\t#Population with members in ascending order of fitness\n",
    "\t\n",
    "\tretain_length = int(len(lstSortedPop)*frac2retain)     \n",
    "\t#top X% members in the population\n",
    "\tlstParents = lstSortedPop[:retain_length]\n",
    "\t\t\t\t\n",
    "\t#other individuals are randomly added to promote genetic diversity\n",
    "\tfor member in lstSortedPop[retain_length:]:\n",
    "\t\tif prob_select > random():\n",
    "\t\t\tlstParents.append(member)\n",
    "\t\t\t\t\t\t\t\t\t\t\t\t\n",
    "\t#mutate some individuals\n",
    "\tfor member in lstParents:\n",
    "\t\tif prob_mutate > random():\n",
    "\t\t\tposit_mut = randint(0, len(member) - 1) #position to mutate\n",
    "\t\t\tmember[posit_mut] = randint(min(member),max(member)) #mutated value\n",
    "\t\t\t\t\t\t\t\t\t\t\t\t\t\t\t\t\t\t\t\n",
    "\t#crossover parents to create children\n",
    "\tnumParents = len(lstParents)\n",
    "\tnumChildrenNeeded = len(lstPop) - numParents\n",
    "\tlstTots = [] #array to hold the children\n",
    "\t\n",
    "\twhile len(lstTots) < numChildrenNeeded:\n",
    "\t\tindMale = randint(0,numParents-1)\n",
    "\t\tindFemale = randint(0,numParents-1)\n",
    "\t\tif indMale != indFemale:  # Make sure two different parents cross.\n",
    "\t\t\tlstMaleMem = lstParents[indMale]\n",
    "\t\t\tlstFemaleMem = lstParents[indFemale]\n",
    "\t\t\tx_over = len(lstMaleMem)//2  # cross over point\n",
    "\t\t\ttot = lstMaleMem[:x_over] + lstFemaleMem[x_over:]\n",
    "\t\t\tlstTots.append(tot)\n",
    "\t\t\t\t\t\t\t\t\t\t\t\t\n",
    "\tlstParents.extend(lstTots)\n",
    "\treturn lstParents  # The evolved population or parents for next gen.\n",
    "\t# This generation is mostly better than the previous one in terms of fitness.\n",
    "    "
   ]
  },
  {
   "cell_type": "markdown",
   "id": "22406718-59d7-4ed7-8033-0b8845d80a8e",
   "metadata": {},
   "source": [
    "One of the last unique steps that have been involved from biological processes is that of Evolution (function:evolvePopulation). It is an iterative process which mostly starts from a population of randomly generated individuals, with the population in each iteration called as a Generation.\n",
    "Evolution consists of crossing over and mutations of parental traits, the changes which are passed on to or inherited by offsprings. The code ensures that the top 20% of individuals or members of the population with ideal fitness values ensure that the strongest individuals are produced for successive generations. The ideal fitness values are obtained from a set in which the values of different elements are arranged in ascending order, from which the top 20% members of the population are selected as parents for the consecutive steps of crossing over and creation of different combinations of 'traits'.\n"
   ]
  },
  {
   "cell_type": "code",
   "execution_count": 8,
   "id": "6afe5cbe-e573-4b9b-affe-00601830114e",
   "metadata": {},
   "outputs": [
    {
     "name": "stdout",
     "output_type": "stream",
     "text": [
      "Number of considered attributes = 6\n"
     ]
    }
   ],
   "source": [
    "trt = 6        \n",
    "traits = int(trt)\n",
    "print('Number of considered attributes =', traits)"
   ]
  },
  {
   "cell_type": "markdown",
   "id": "06f98fb4-3639-4027-bc46-cef390d9a8b2",
   "metadata": {},
   "source": []
  },
  {
   "cell_type": "code",
   "execution_count": 12,
   "id": "de57e217-de46-4efc-828e-749ed4c97b89",
   "metadata": {},
   "outputs": [],
   "source": [
    "def main():\n",
    "\t\n",
    "\t# The configurable parameters for running the simulation\n",
    "\t# The evolvePopulation() function has three default parameters which can\n",
    "\t# also be tweaked.\n",
    "\t\n",
    "\tsizePopulation = 100 # Size of the population\n",
    "\t\n",
    "\tnumAttr = 6 # Number of attributes of each member (or candidate soln)\n",
    "\tvalMin = 1  # Minimum and maximum value of attributes\n",
    "\tvalMax = 99\n",
    "\t\n",
    "\tvalTarget = 33 # Target value to be met by the solution.\n",
    "\tnumGens = 20 # Number of generations to evolve\n",
    "\t#---------------------------------------------------------\n",
    "\t\n",
    "\tlstInitialPop = makePopulation(sizePopulation,numAttr,valMin,valMax)  \n",
    "\tprint('A random initial candidate:', lstInitialPop[(randint(0,sizePopulation-1))])\n",
    "\t\n",
    "\tlstNextGen = lstInitialPop  # keep the initial population safe and copy to newgen for evolving\n",
    "\n",
    "\tlstPopGrades = [calcGrade(lstNextGen,valTarget)]   \n",
    "\t# append successive population grades to this array to track if our\n",
    "\t# solutions are improving from generation to next.\n",
    "\t\n",
    "\tfor i in range (numGens):  #Evolve for 'numGens' generations\n",
    "\t\tlstNextGen = evolvePopulation(lstNextGen, valTarget)\n",
    "\t\tlstPopGrades.append(calcGrade(lstNextGen, valTarget))\n",
    "\t\n",
    "\tprint('A random optimised candidate solution:', lstNextGen[(randint(0,sizePopulation-1))])\n",
    "\tplt.plot(range((numGens+1)), lstPopGrades , 'r--o')\n",
    "\n",
    "\t#Repeat yet again to show how the same initial population can yield \n",
    "\t#different final solutions.\n",
    "\tlstNextGen = lstInitialPop  # Start with the same initial population\n",
    "\n",
    "\tlstPopGrades = [calcGrade(lstNextGen,valTarget)]   \t\n",
    "\tfor i in range (numGens):  #Evolve for 'numgens' generations\n",
    "\t\tlstNextGen = evolvePopulation(lstNextGen, valTarget)\n",
    "\t\tlstPopGrades.append(calcGrade(lstNextGen, valTarget))\n",
    "\n",
    "\tprint('A random optimised candidate solution:', lstNextGen[(randint(0,sizePopulation-1))])\n",
    "\tplt.plot(range((numGens+1)), lstPopGrades , 'k--s')\n",
    "\n",
    "\t## Plot the evolutionary progress\n",
    "\tplt.axis([0, (numGens+1), 0, 20])\n",
    "\tplt.title('Evolution of Candidate Solutions')\n",
    "\tplt.xlabel('Generations')\n",
    "\tplt.ylabel('Avg. Population Fitness (Lower is better)')\n",
    "\tplt.text(5,15,'Two successive evolutionary runs.\\nSame initial population')\n",
    "\tplt.grid(True)\n",
    "\tplt.show()\n"
   ]
  },
  {
   "cell_type": "code",
   "execution_count": 13,
   "id": "807887f4-8e89-4172-b601-6f16a4a1c2d7",
   "metadata": {},
   "outputs": [
    {
     "name": "stdout",
     "output_type": "stream",
     "text": [
      "A random initial candidate: [97, 22, 5, 44, 80, 8]\n",
      "A random optimised candidate solution: [4, 45, 36, 96, 5, 12]\n",
      "A random optimised candidate solution: [5, 49, 21, 18, 31, 73]\n"
     ]
    },
    {
     "data": {
      "image/png": "[encoded data removed]",
      "text/plain": [
       "<Figure size 432x288 with 1 Axes>"
      ]
     },
     "metadata": {
      "needs_background": "light"
     },
     "output_type": "display_data"
    }
   ],
   "source": [
    "## Main\n",
    "if  __name__ == '__main__':\n",
    "\tmain()\n",
    "# || END ||\n"
   ]
  },
  {
   "cell_type": "markdown",
   "id": "3234fc75-843c-4a2a-a853-bd49853c4c7f",
   "metadata": {},
   "source": []
  },
  {
   "cell_type": "markdown",
   "id": "3293af2c-f5af-4771-a80d-41b8f764e07e",
   "metadata": {},
   "source": [
    " In each generation, the fitness(survival and reproductive success of an individual within an actual population) of every individual in the population is evaluated. Fitness of an individual reflects the effectiveness (loss or profit) due to the solution that is considered as an option. The more fit individuals are selected randomly from the current population and the genome of each individual is modified (with recombination or crossover and random mutation) to form a new generation.\n",
    "The new generation of candidate solutions can be used in the next iteration of the algorithm. The algorithm concludes either when a maximum number of generations have been produced or when an adequate fitness level is reached for the population."
   ]
  },
  {
   "cell_type": "markdown",
   "id": "0784535e-6bfa-4aed-a557-f47b87cc5d23",
   "metadata": {},
   "source": [
    "The process of evolution of the new generation is carried out by a loop that is executed the same number of times as the number of generations are indicated. In order to ultimately understand the effect of crossing over and mutations over the indicated number of generations, a graph is plotted with the values of serial numbers of generations along the x-axis and those of grades (based on average population fitness) along the y-axis. Although graphs with clearly different conformations are obtained from various trials (due to the stochasticity or randomness of the process both in nature and within the program), an overall pattern may be observed according to which better fitness values are seen towards the final generations.i.e.fitness values are observed to converge around a very minute value which is close to 0."
   ]
  },
  {
   "cell_type": "markdown",
   "id": "ef0d3199-4e07-4689-a67f-b78f77154599",
   "metadata": {},
   "source": [
    "Due to the nature of the genetic algorithm of optimizing solutions to problems, the algorithm cannot be used to solve new problems though it can be used to find better solutions to an already existing problem. So, given the definition of a candlelight, it might create a more efficient lantern, but, it will never give you a fluorescent bulb."
   ]
  }
 ],
 "metadata": {
  "kernelspec": {
   "display_name": "Python 3 (ipykernel)",
   "language": "python",
   "name": "python3"
  },
  "language_info": {
   "codemirror_mode": {
    "name": "ipython",
    "version": 3
   },
   "file_extension": ".py",
   "mimetype": "text/x-python",
   "name": "python",
   "nbconvert_exporter": "python",
   "pygments_lexer": "ipython3",
   "version": "3.9.5"
  }
 },
 "nbformat": 4,
 "nbformat_minor": 5
}
